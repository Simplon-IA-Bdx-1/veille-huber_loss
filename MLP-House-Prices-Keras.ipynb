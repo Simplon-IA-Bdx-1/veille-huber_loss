{
 "cells": [
  {
   "cell_type": "markdown",
   "metadata": {
    "slideshow": {
     "slide_type": "slide"
    }
   },
   "source": [
    "# MLP on House Prices with Keras\n",
    "\n",
    "All Rights Reserved © <a href=\"http://www.louisdorard.com\">Louis Dorard</a>\n",
    "\n",
    "<img src=\"http://s3.louisdorard.com.s3.amazonaws.com/DL_icon.png\">"
   ]
  },
  {
   "cell_type": "markdown",
   "metadata": {
    "slideshow": {
     "slide_type": "slide"
    }
   },
   "source": [
    "## Define `X_train` and `y_train`"
   ]
  },
  {
   "cell_type": "code",
   "execution_count": 1,
   "metadata": {},
   "outputs": [
    {
     "name": "stdout",
     "output_type": "stream",
     "text": [
      "(1460, 81)\n"
     ]
    }
   ],
   "source": [
    "import pandas as pd\n",
    "\n",
    "data = pd.read_csv('csv_file/train.csv')\n",
    "print(data.shape)\n",
    "\n",
    "data_test = pd.read_csv('csv_file/test.csv')\n",
    "test_ID = data_test['Id']\n",
    "\n",
    "# %run House-Prices-1D.ipynb"
   ]
  },
  {
   "cell_type": "markdown",
   "metadata": {
    "slideshow": {
     "slide_type": "fragment"
    }
   },
   "source": [
    "List of numerical features that don't have missing values:"
   ]
  },
  {
   "cell_type": "code",
   "execution_count": 2,
   "metadata": {
    "slideshow": {
     "slide_type": "fragment"
    }
   },
   "outputs": [
    {
     "name": "stdout",
     "output_type": "stream",
     "text": [
      "Index(['Id', 'MSSubClass', 'LotFrontage', 'LotArea', 'OverallQual',\n",
      "       'OverallCond', 'YearBuilt', 'YearRemodAdd', 'MasVnrArea', 'BsmtFinSF1',\n",
      "       'BsmtFinSF2', 'BsmtUnfSF', 'TotalBsmtSF', '1stFlrSF', '2ndFlrSF',\n",
      "       'LowQualFinSF', 'GrLivArea', 'BsmtFullBath', 'BsmtHalfBath', 'FullBath',\n",
      "       'HalfBath', 'BedroomAbvGr', 'KitchenAbvGr', 'TotRmsAbvGrd',\n",
      "       'Fireplaces', 'GarageYrBlt', 'GarageCars', 'GarageArea', 'WoodDeckSF',\n",
      "       'OpenPorchSF', 'EnclosedPorch', '3SsnPorch', 'ScreenPorch', 'PoolArea',\n",
      "       'MiscVal', 'MoSold', 'YrSold', 'SalePrice'],\n",
      "      dtype='object')\n"
     ]
    }
   ],
   "source": [
    "features_quant = data.select_dtypes(include=['int64','float64']).columns\n",
    "print(features_quant)"
   ]
  },
  {
   "cell_type": "code",
   "execution_count": 3,
   "metadata": {
    "slideshow": {
     "slide_type": "fragment"
    }
   },
   "outputs": [],
   "source": [
    "features = [\n",
    "    'MSSubClass', \n",
    "#     'LotFrontage', \n",
    "    'LotArea', \n",
    "    'OverallQual',\n",
    "    'OverallCond', \n",
    "    'YearBuilt', \n",
    "    'YearRemodAdd', \n",
    "#     'MasVnrArea', \n",
    "#     'BsmtFinSF1',\n",
    "#     'BsmtFinSF2', \n",
    "#     'BsmtUnfSF', \n",
    "#     'TotalBsmtSF', \n",
    "    '1stFlrSF', \n",
    "    '2ndFlrSF',\n",
    "#     'LowQualFinSF', \n",
    "    'GrLivArea', \n",
    "#     'BsmtFullBath', \n",
    "#     'BsmtHalfBath', \n",
    "    'FullBath',\n",
    "    'HalfBath', \n",
    "    'BedroomAbvGr', \n",
    "    'KitchenAbvGr', \n",
    "    'TotRmsAbvGrd',\n",
    "    'Fireplaces', \n",
    "#     'GarageYrBlt', \n",
    "#     'GarageCars', \n",
    "#     'GarageArea', \n",
    "    'WoodDeckSF',\n",
    "#     'OpenPorchSF', \n",
    "#     'EnclosedPorch', \n",
    "#     '3SsnPorch', \n",
    "#     'ScreenPorch', \n",
    "#     'PoolArea',\n",
    "#     'MiscVal', \n",
    "    'MoSold', \n",
    "    'YrSold']"
   ]
  },
  {
   "cell_type": "code",
   "execution_count": 4,
   "metadata": {
    "slideshow": {
     "slide_type": "slide"
    }
   },
   "outputs": [
    {
     "name": "stdout",
     "output_type": "stream",
     "text": [
      "(1460, 18)\n",
      "(1460, 1)\n"
     ]
    }
   ],
   "source": [
    "X_train_full = data[features].values.astype(float)\n",
    "y_train_full = data[['SalePrice']].values.astype(float)\n",
    "print(X_train_full.shape)\n",
    "print(y_train_full.shape)"
   ]
  },
  {
   "cell_type": "code",
   "execution_count": 5,
   "metadata": {},
   "outputs": [
    {
     "name": "stdout",
     "output_type": "stream",
     "text": [
      "(1459, 18)\n"
     ]
    }
   ],
   "source": [
    "X_test = data_test[features].values.astype(float)\n",
    "print(X_test.shape)"
   ]
  },
  {
   "cell_type": "code",
   "execution_count": 6,
   "metadata": {},
   "outputs": [
    {
     "data": {
      "text/html": [
       "<div>\n",
       "<style scoped>\n",
       "    .dataframe tbody tr th:only-of-type {\n",
       "        vertical-align: middle;\n",
       "    }\n",
       "\n",
       "    .dataframe tbody tr th {\n",
       "        vertical-align: top;\n",
       "    }\n",
       "\n",
       "    .dataframe thead th {\n",
       "        text-align: right;\n",
       "    }\n",
       "</style>\n",
       "<table border=\"1\" class=\"dataframe\">\n",
       "  <thead>\n",
       "    <tr style=\"text-align: right;\">\n",
       "      <th></th>\n",
       "      <th>0</th>\n",
       "      <th>1</th>\n",
       "      <th>2</th>\n",
       "      <th>3</th>\n",
       "      <th>4</th>\n",
       "      <th>5</th>\n",
       "      <th>6</th>\n",
       "      <th>7</th>\n",
       "      <th>8</th>\n",
       "      <th>9</th>\n",
       "      <th>10</th>\n",
       "      <th>11</th>\n",
       "      <th>12</th>\n",
       "      <th>13</th>\n",
       "      <th>14</th>\n",
       "      <th>15</th>\n",
       "      <th>16</th>\n",
       "      <th>17</th>\n",
       "    </tr>\n",
       "  </thead>\n",
       "  <tbody>\n",
       "    <tr>\n",
       "      <th>count</th>\n",
       "      <td>1459.000000</td>\n",
       "      <td>1459.000000</td>\n",
       "      <td>1459.000000</td>\n",
       "      <td>1459.000000</td>\n",
       "      <td>1459.000000</td>\n",
       "      <td>1459.000000</td>\n",
       "      <td>1459.000000</td>\n",
       "      <td>1459.000000</td>\n",
       "      <td>1459.000000</td>\n",
       "      <td>1459.000000</td>\n",
       "      <td>1459.000000</td>\n",
       "      <td>1459.000000</td>\n",
       "      <td>1459.000000</td>\n",
       "      <td>1459.000000</td>\n",
       "      <td>1459.00000</td>\n",
       "      <td>1459.000000</td>\n",
       "      <td>1459.000000</td>\n",
       "      <td>1459.000000</td>\n",
       "    </tr>\n",
       "    <tr>\n",
       "      <th>mean</th>\n",
       "      <td>57.378341</td>\n",
       "      <td>9819.161069</td>\n",
       "      <td>6.078821</td>\n",
       "      <td>5.553804</td>\n",
       "      <td>1971.357779</td>\n",
       "      <td>1983.662783</td>\n",
       "      <td>1156.534613</td>\n",
       "      <td>325.967786</td>\n",
       "      <td>1486.045922</td>\n",
       "      <td>1.570939</td>\n",
       "      <td>0.377656</td>\n",
       "      <td>2.854010</td>\n",
       "      <td>1.042495</td>\n",
       "      <td>6.385195</td>\n",
       "      <td>0.58122</td>\n",
       "      <td>93.174777</td>\n",
       "      <td>6.104181</td>\n",
       "      <td>2007.769705</td>\n",
       "    </tr>\n",
       "    <tr>\n",
       "      <th>std</th>\n",
       "      <td>42.746880</td>\n",
       "      <td>4955.517327</td>\n",
       "      <td>1.436812</td>\n",
       "      <td>1.113740</td>\n",
       "      <td>30.390071</td>\n",
       "      <td>21.130467</td>\n",
       "      <td>398.165820</td>\n",
       "      <td>420.610226</td>\n",
       "      <td>485.566099</td>\n",
       "      <td>0.555190</td>\n",
       "      <td>0.503017</td>\n",
       "      <td>0.829788</td>\n",
       "      <td>0.208472</td>\n",
       "      <td>1.508895</td>\n",
       "      <td>0.64742</td>\n",
       "      <td>127.744882</td>\n",
       "      <td>2.722432</td>\n",
       "      <td>1.301740</td>\n",
       "    </tr>\n",
       "    <tr>\n",
       "      <th>min</th>\n",
       "      <td>20.000000</td>\n",
       "      <td>1470.000000</td>\n",
       "      <td>1.000000</td>\n",
       "      <td>1.000000</td>\n",
       "      <td>1879.000000</td>\n",
       "      <td>1950.000000</td>\n",
       "      <td>407.000000</td>\n",
       "      <td>0.000000</td>\n",
       "      <td>407.000000</td>\n",
       "      <td>0.000000</td>\n",
       "      <td>0.000000</td>\n",
       "      <td>0.000000</td>\n",
       "      <td>0.000000</td>\n",
       "      <td>3.000000</td>\n",
       "      <td>0.00000</td>\n",
       "      <td>0.000000</td>\n",
       "      <td>1.000000</td>\n",
       "      <td>2006.000000</td>\n",
       "    </tr>\n",
       "    <tr>\n",
       "      <th>25%</th>\n",
       "      <td>20.000000</td>\n",
       "      <td>7391.000000</td>\n",
       "      <td>5.000000</td>\n",
       "      <td>5.000000</td>\n",
       "      <td>1953.000000</td>\n",
       "      <td>1963.000000</td>\n",
       "      <td>873.500000</td>\n",
       "      <td>0.000000</td>\n",
       "      <td>1117.500000</td>\n",
       "      <td>1.000000</td>\n",
       "      <td>0.000000</td>\n",
       "      <td>2.000000</td>\n",
       "      <td>1.000000</td>\n",
       "      <td>5.000000</td>\n",
       "      <td>0.00000</td>\n",
       "      <td>0.000000</td>\n",
       "      <td>4.000000</td>\n",
       "      <td>2007.000000</td>\n",
       "    </tr>\n",
       "    <tr>\n",
       "      <th>50%</th>\n",
       "      <td>50.000000</td>\n",
       "      <td>9399.000000</td>\n",
       "      <td>6.000000</td>\n",
       "      <td>5.000000</td>\n",
       "      <td>1973.000000</td>\n",
       "      <td>1992.000000</td>\n",
       "      <td>1079.000000</td>\n",
       "      <td>0.000000</td>\n",
       "      <td>1432.000000</td>\n",
       "      <td>2.000000</td>\n",
       "      <td>0.000000</td>\n",
       "      <td>3.000000</td>\n",
       "      <td>1.000000</td>\n",
       "      <td>6.000000</td>\n",
       "      <td>0.00000</td>\n",
       "      <td>0.000000</td>\n",
       "      <td>6.000000</td>\n",
       "      <td>2008.000000</td>\n",
       "    </tr>\n",
       "    <tr>\n",
       "      <th>75%</th>\n",
       "      <td>70.000000</td>\n",
       "      <td>11517.500000</td>\n",
       "      <td>7.000000</td>\n",
       "      <td>6.000000</td>\n",
       "      <td>2001.000000</td>\n",
       "      <td>2004.000000</td>\n",
       "      <td>1382.500000</td>\n",
       "      <td>676.000000</td>\n",
       "      <td>1721.000000</td>\n",
       "      <td>2.000000</td>\n",
       "      <td>1.000000</td>\n",
       "      <td>3.000000</td>\n",
       "      <td>1.000000</td>\n",
       "      <td>7.000000</td>\n",
       "      <td>1.00000</td>\n",
       "      <td>168.000000</td>\n",
       "      <td>8.000000</td>\n",
       "      <td>2009.000000</td>\n",
       "    </tr>\n",
       "    <tr>\n",
       "      <th>max</th>\n",
       "      <td>190.000000</td>\n",
       "      <td>56600.000000</td>\n",
       "      <td>10.000000</td>\n",
       "      <td>9.000000</td>\n",
       "      <td>2010.000000</td>\n",
       "      <td>2010.000000</td>\n",
       "      <td>5095.000000</td>\n",
       "      <td>1862.000000</td>\n",
       "      <td>5095.000000</td>\n",
       "      <td>4.000000</td>\n",
       "      <td>2.000000</td>\n",
       "      <td>6.000000</td>\n",
       "      <td>2.000000</td>\n",
       "      <td>15.000000</td>\n",
       "      <td>4.00000</td>\n",
       "      <td>1424.000000</td>\n",
       "      <td>12.000000</td>\n",
       "      <td>2010.000000</td>\n",
       "    </tr>\n",
       "  </tbody>\n",
       "</table>\n",
       "</div>"
      ],
      "text/plain": [
       "                0             1            2            3            4   \\\n",
       "count  1459.000000   1459.000000  1459.000000  1459.000000  1459.000000   \n",
       "mean     57.378341   9819.161069     6.078821     5.553804  1971.357779   \n",
       "std      42.746880   4955.517327     1.436812     1.113740    30.390071   \n",
       "min      20.000000   1470.000000     1.000000     1.000000  1879.000000   \n",
       "25%      20.000000   7391.000000     5.000000     5.000000  1953.000000   \n",
       "50%      50.000000   9399.000000     6.000000     5.000000  1973.000000   \n",
       "75%      70.000000  11517.500000     7.000000     6.000000  2001.000000   \n",
       "max     190.000000  56600.000000    10.000000     9.000000  2010.000000   \n",
       "\n",
       "                5            6            7            8            9   \\\n",
       "count  1459.000000  1459.000000  1459.000000  1459.000000  1459.000000   \n",
       "mean   1983.662783  1156.534613   325.967786  1486.045922     1.570939   \n",
       "std      21.130467   398.165820   420.610226   485.566099     0.555190   \n",
       "min    1950.000000   407.000000     0.000000   407.000000     0.000000   \n",
       "25%    1963.000000   873.500000     0.000000  1117.500000     1.000000   \n",
       "50%    1992.000000  1079.000000     0.000000  1432.000000     2.000000   \n",
       "75%    2004.000000  1382.500000   676.000000  1721.000000     2.000000   \n",
       "max    2010.000000  5095.000000  1862.000000  5095.000000     4.000000   \n",
       "\n",
       "                10           11           12           13          14  \\\n",
       "count  1459.000000  1459.000000  1459.000000  1459.000000  1459.00000   \n",
       "mean      0.377656     2.854010     1.042495     6.385195     0.58122   \n",
       "std       0.503017     0.829788     0.208472     1.508895     0.64742   \n",
       "min       0.000000     0.000000     0.000000     3.000000     0.00000   \n",
       "25%       0.000000     2.000000     1.000000     5.000000     0.00000   \n",
       "50%       0.000000     3.000000     1.000000     6.000000     0.00000   \n",
       "75%       1.000000     3.000000     1.000000     7.000000     1.00000   \n",
       "max       2.000000     6.000000     2.000000    15.000000     4.00000   \n",
       "\n",
       "                15           16           17  \n",
       "count  1459.000000  1459.000000  1459.000000  \n",
       "mean     93.174777     6.104181  2007.769705  \n",
       "std     127.744882     2.722432     1.301740  \n",
       "min       0.000000     1.000000  2006.000000  \n",
       "25%       0.000000     4.000000  2007.000000  \n",
       "50%       0.000000     6.000000  2008.000000  \n",
       "75%     168.000000     8.000000  2009.000000  \n",
       "max    1424.000000    12.000000  2010.000000  "
      ]
     },
     "execution_count": 6,
     "metadata": {},
     "output_type": "execute_result"
    }
   ],
   "source": [
    "import numpy as np\n",
    "\n",
    "X_test_df = pd.DataFrame(X_test)\n",
    "X_test_df.describe()"
   ]
  },
  {
   "cell_type": "markdown",
   "metadata": {
    "slideshow": {
     "slide_type": "slide"
    }
   },
   "source": [
    "Split into an actual training set and a validation set.\n",
    "\n",
    "(Note: make split reproducible -> fix seed of numpy's random number generator, before using scikit)"
   ]
  },
  {
   "cell_type": "code",
   "execution_count": 7,
   "metadata": {
    "slideshow": {
     "slide_type": "fragment"
    }
   },
   "outputs": [],
   "source": [
    "from numpy import random as np_random\n",
    "SEED = 42\n",
    "np_random.seed(SEED)"
   ]
  },
  {
   "cell_type": "code",
   "execution_count": 8,
   "metadata": {
    "slideshow": {
     "slide_type": "fragment"
    }
   },
   "outputs": [
    {
     "name": "stdout",
     "output_type": "stream",
     "text": [
      "(1095, 18)\n"
     ]
    }
   ],
   "source": [
    "from sklearn.model_selection import train_test_split\n",
    "X_train, X_val, y_train, y_val = train_test_split(X_train_full, y_train_full)\n",
    "print(X_train.shape)"
   ]
  },
  {
   "cell_type": "markdown",
   "metadata": {
    "slideshow": {
     "slide_type": "slide"
    }
   },
   "source": [
    "Normalize inputs:"
   ]
  },
  {
   "cell_type": "code",
   "execution_count": 9,
   "metadata": {
    "slideshow": {
     "slide_type": "fragment"
    }
   },
   "outputs": [
    {
     "data": {
      "text/plain": [
       "StandardScaler(copy=True, with_mean=True, with_std=True)"
      ]
     },
     "execution_count": 9,
     "metadata": {},
     "output_type": "execute_result"
    }
   ],
   "source": [
    "from sklearn.preprocessing import StandardScaler\n",
    "scaler_X = StandardScaler()\n",
    "scaler_X.fit(X_train)"
   ]
  },
  {
   "cell_type": "code",
   "execution_count": 10,
   "metadata": {
    "slideshow": {
     "slide_type": "fragment"
    }
   },
   "outputs": [],
   "source": [
    "X_train_scaled = scaler_X.transform(X_train)\n",
    "X_val_scaled = scaler_X.transform(X_val)"
   ]
  },
  {
   "cell_type": "code",
   "execution_count": 11,
   "metadata": {},
   "outputs": [],
   "source": [
    "X_test_scaled = scaler_X.transform(X_test)"
   ]
  },
  {
   "cell_type": "markdown",
   "metadata": {
    "slideshow": {
     "slide_type": "slide"
    }
   },
   "source": [
    "Log-transform outputs:"
   ]
  },
  {
   "cell_type": "code",
   "execution_count": 12,
   "metadata": {
    "slideshow": {
     "slide_type": "fragment"
    }
   },
   "outputs": [],
   "source": [
    "from numpy import log\n",
    "y_train_log = log(y_train)\n",
    "y_val_log = log(y_val)"
   ]
  },
  {
   "cell_type": "markdown",
   "metadata": {
    "slideshow": {
     "slide_type": "slide"
    }
   },
   "source": [
    "Normalize outputs? Could be useful if training an MLP...\n",
    "\n",
    "_\"Reducing the scale of the target variable will, in turn, reduce the size of the gradient used to update the weights and result in a more stable model and training process.\"_ ([Source](https://machinelearningmastery.com/how-to-improve-neural-network-stability-and-modeling-performance-with-data-scaling/))"
   ]
  },
  {
   "cell_type": "code",
   "execution_count": 13,
   "metadata": {
    "slideshow": {
     "slide_type": "fragment"
    }
   },
   "outputs": [],
   "source": [
    "scaler_Y_log = StandardScaler()\n",
    "scaler_Y_log.fit(y_train_log)\n",
    "y_train_log_scaled = scaler_Y_log.transform(y_train_log)\n",
    "y_val_log_scaled = scaler_Y_log.transform(y_val_log)"
   ]
  },
  {
   "cell_type": "markdown",
   "metadata": {
    "slideshow": {
     "slide_type": "slide"
    }
   },
   "source": [
    "## Model relationship between `x` and  `y`"
   ]
  },
  {
   "cell_type": "markdown",
   "metadata": {
    "slideshow": {
     "slide_type": "fragment"
    }
   },
   "source": [
    "Make results reproducible -> fix seed of TensorFlow's random number generator"
   ]
  },
  {
   "cell_type": "code",
   "execution_count": 14,
   "metadata": {
    "slideshow": {
     "slide_type": "fragment"
    }
   },
   "outputs": [],
   "source": [
    "from tensorflow import random as tf_random\n",
    "tf_random.set_seed(SEED)"
   ]
  },
  {
   "cell_type": "markdown",
   "metadata": {
    "slideshow": {
     "slide_type": "slide"
    }
   },
   "source": [
    "Define model:"
   ]
  },
  {
   "cell_type": "code",
   "execution_count": 15,
   "metadata": {},
   "outputs": [
    {
     "name": "stderr",
     "output_type": "stream",
     "text": [
      "Using TensorFlow backend.\n"
     ]
    }
   ],
   "source": [
    "from keras.models import Sequential\n",
    "from keras.layers import Dense\n",
    "from keras.losses import huber_loss\n",
    "\n",
    "def huber_loss_wrapper(**huber_loss_kwargs):\n",
    "    def huber_loss_wrapped_function(y_true, y_pred):\n",
    "        return huber_loss(y_true, y_pred, **huber_loss_kwargs)\n",
    "    return huber_loss_wrapped_function\n",
    "\n"
   ]
  },
  {
   "cell_type": "code",
   "execution_count": 16,
   "metadata": {
    "slideshow": {
     "slide_type": "fragment"
    }
   },
   "outputs": [],
   "source": [
    "from tensorflow.keras.models import Sequential\n",
    "from tensorflow.keras.layers import Input, Dense\n",
    "n_input = X_train.shape[1]\n",
    "model = Sequential([\n",
    "    Input(shape=n_input),\n",
    "    Dense(n_input*2, activation='relu',kernel_initializer='normal'), # 36\n",
    "    Dense(n_input, activation='relu',kernel_initializer='normal'), # 18\n",
    "    Dense(1)\n",
    "])"
   ]
  },
  {
   "cell_type": "markdown",
   "metadata": {
    "slideshow": {
     "slide_type": "slide"
    }
   },
   "source": [
    "Check model is defined as expected:"
   ]
  },
  {
   "cell_type": "code",
   "execution_count": 17,
   "metadata": {
    "slideshow": {
     "slide_type": "fragment"
    }
   },
   "outputs": [
    {
     "name": "stdout",
     "output_type": "stream",
     "text": [
      "Model: \"sequential\"\n",
      "_________________________________________________________________\n",
      "Layer (type)                 Output Shape              Param #   \n",
      "=================================================================\n",
      "dense (Dense)                (None, 36)                684       \n",
      "_________________________________________________________________\n",
      "dense_1 (Dense)              (None, 18)                666       \n",
      "_________________________________________________________________\n",
      "dense_2 (Dense)              (None, 1)                 19        \n",
      "=================================================================\n",
      "Total params: 1,369\n",
      "Trainable params: 1,369\n",
      "Non-trainable params: 0\n",
      "_________________________________________________________________\n"
     ]
    }
   ],
   "source": [
    "model.summary()"
   ]
  },
  {
   "cell_type": "markdown",
   "metadata": {
    "slideshow": {
     "slide_type": "slide"
    }
   },
   "source": [
    "## Set up optimizer\n",
    "\n",
    "Using Adam instead of SGD"
   ]
  },
  {
   "cell_type": "code",
   "execution_count": 18,
   "metadata": {
    "slideshow": {
     "slide_type": "fragment"
    }
   },
   "outputs": [],
   "source": [
    "# from tensorflow.keras.optimizers import Adam\n",
    "from tensorflow.keras.optimizers import SGD\n",
    "\n",
    "\n",
    "LEARNING_RATE = 0.01\n",
    "# model.compile(loss='mse', optimizer=Adam(lr=LEARNING_RATE))\n",
    "model.compile(loss=huber_loss_wrapper(delta=1.5), optimizer=SGD(lr=LEARNING_RATE))\n",
    "\n",
    "# loss='mse'"
   ]
  },
  {
   "cell_type": "markdown",
   "metadata": {
    "slideshow": {
     "slide_type": "slide"
    }
   },
   "source": [
    "## Fit model"
   ]
  },
  {
   "cell_type": "code",
   "execution_count": 19,
   "metadata": {
    "slideshow": {
     "slide_type": "fragment"
    }
   },
   "outputs": [
    {
     "name": "stdout",
     "output_type": "stream",
     "text": [
      "Train on 1095 samples, validate on 365 samples\n",
      "Epoch 1/300\n",
      "1095/1095 - 1s - loss: 0.4453 - val_loss: 0.4688\n",
      "Epoch 2/300\n",
      "1095/1095 - 0s - loss: 0.4128 - val_loss: 0.4295\n",
      "Epoch 3/300\n",
      "1095/1095 - 0s - loss: 0.3744 - val_loss: 0.3837\n",
      "Epoch 4/300\n",
      "1095/1095 - 0s - loss: 0.3290 - val_loss: 0.3320\n",
      "Epoch 5/300\n",
      "1095/1095 - 0s - loss: 0.2798 - val_loss: 0.2776\n",
      "Epoch 6/300\n",
      "1095/1095 - 0s - loss: 0.2307 - val_loss: 0.2258\n",
      "Epoch 7/300\n",
      "1095/1095 - 0s - loss: 0.1866 - val_loss: 0.1811\n",
      "Epoch 8/300\n",
      "1095/1095 - 0s - loss: 0.1512 - val_loss: 0.1475\n",
      "Epoch 9/300\n",
      "1095/1095 - 0s - loss: 0.1264 - val_loss: 0.1243\n",
      "Epoch 10/300\n",
      "1095/1095 - 0s - loss: 0.1102 - val_loss: 0.1098\n",
      "Epoch 11/300\n",
      "1095/1095 - 0s - loss: 0.1005 - val_loss: 0.1008\n",
      "Epoch 12/300\n",
      "1095/1095 - 0s - loss: 0.0948 - val_loss: 0.0952\n",
      "Epoch 13/300\n",
      "1095/1095 - 0s - loss: 0.0911 - val_loss: 0.0915\n",
      "Epoch 14/300\n",
      "1095/1095 - 0s - loss: 0.0884 - val_loss: 0.0886\n",
      "Epoch 15/300\n",
      "1095/1095 - 0s - loss: 0.0864 - val_loss: 0.0866\n",
      "Epoch 16/300\n",
      "1095/1095 - 0s - loss: 0.0848 - val_loss: 0.0848\n",
      "Epoch 17/300\n",
      "1095/1095 - 0s - loss: 0.0833 - val_loss: 0.0832\n",
      "Epoch 18/300\n",
      "1095/1095 - 0s - loss: 0.0820 - val_loss: 0.0820\n",
      "Epoch 19/300\n",
      "1095/1095 - 0s - loss: 0.0810 - val_loss: 0.0810\n",
      "Epoch 20/300\n",
      "1095/1095 - 0s - loss: 0.0801 - val_loss: 0.0800\n",
      "Epoch 21/300\n",
      "1095/1095 - 0s - loss: 0.0791 - val_loss: 0.0792\n",
      "Epoch 22/300\n",
      "1095/1095 - 0s - loss: 0.0784 - val_loss: 0.0783\n",
      "Epoch 23/300\n",
      "1095/1095 - 0s - loss: 0.0776 - val_loss: 0.0776\n",
      "Epoch 24/300\n",
      "1095/1095 - 0s - loss: 0.0769 - val_loss: 0.0768\n",
      "Epoch 25/300\n",
      "1095/1095 - 0s - loss: 0.0764 - val_loss: 0.0761\n",
      "Epoch 26/300\n",
      "1095/1095 - 0s - loss: 0.0758 - val_loss: 0.0755\n",
      "Epoch 27/300\n",
      "1095/1095 - 0s - loss: 0.0753 - val_loss: 0.0749\n",
      "Epoch 28/300\n",
      "1095/1095 - 0s - loss: 0.0748 - val_loss: 0.0744\n",
      "Epoch 29/300\n",
      "1095/1095 - 0s - loss: 0.0744 - val_loss: 0.0739\n",
      "Epoch 30/300\n",
      "1095/1095 - 0s - loss: 0.0739 - val_loss: 0.0734\n",
      "Epoch 31/300\n",
      "1095/1095 - 0s - loss: 0.0736 - val_loss: 0.0730\n",
      "Epoch 32/300\n",
      "1095/1095 - 0s - loss: 0.0732 - val_loss: 0.0726\n",
      "Epoch 33/300\n",
      "1095/1095 - 0s - loss: 0.0728 - val_loss: 0.0722\n",
      "Epoch 34/300\n",
      "1095/1095 - 0s - loss: 0.0724 - val_loss: 0.0719\n",
      "Epoch 35/300\n",
      "1095/1095 - 0s - loss: 0.0720 - val_loss: 0.0715\n",
      "Epoch 36/300\n",
      "1095/1095 - 0s - loss: 0.0718 - val_loss: 0.0712\n",
      "Epoch 37/300\n",
      "1095/1095 - 0s - loss: 0.0715 - val_loss: 0.0709\n",
      "Epoch 38/300\n",
      "1095/1095 - 0s - loss: 0.0712 - val_loss: 0.0707\n",
      "Epoch 39/300\n",
      "1095/1095 - 0s - loss: 0.0709 - val_loss: 0.0705\n",
      "Epoch 40/300\n",
      "1095/1095 - 0s - loss: 0.0706 - val_loss: 0.0702\n",
      "Epoch 41/300\n",
      "1095/1095 - 0s - loss: 0.0704 - val_loss: 0.0699\n",
      "Epoch 42/300\n",
      "1095/1095 - 0s - loss: 0.0701 - val_loss: 0.0698\n",
      "Epoch 43/300\n",
      "1095/1095 - 0s - loss: 0.0699 - val_loss: 0.0696\n",
      "Epoch 44/300\n",
      "1095/1095 - 0s - loss: 0.0697 - val_loss: 0.0693\n",
      "Epoch 45/300\n",
      "1095/1095 - 0s - loss: 0.0695 - val_loss: 0.0691\n",
      "Epoch 46/300\n",
      "1095/1095 - 0s - loss: 0.0693 - val_loss: 0.0689\n",
      "Epoch 47/300\n",
      "1095/1095 - 0s - loss: 0.0690 - val_loss: 0.0689\n",
      "Epoch 48/300\n",
      "1095/1095 - 0s - loss: 0.0689 - val_loss: 0.0686\n",
      "Epoch 49/300\n",
      "1095/1095 - 0s - loss: 0.0687 - val_loss: 0.0684\n",
      "Epoch 50/300\n",
      "1095/1095 - 0s - loss: 0.0685 - val_loss: 0.0683\n",
      "Epoch 51/300\n",
      "1095/1095 - 0s - loss: 0.0684 - val_loss: 0.0681\n",
      "Epoch 52/300\n",
      "1095/1095 - 0s - loss: 0.0681 - val_loss: 0.0680\n",
      "Epoch 53/300\n",
      "1095/1095 - 0s - loss: 0.0679 - val_loss: 0.0678\n",
      "Epoch 54/300\n",
      "1095/1095 - 0s - loss: 0.0678 - val_loss: 0.0677\n",
      "Epoch 55/300\n",
      "1095/1095 - 0s - loss: 0.0676 - val_loss: 0.0676\n",
      "Epoch 56/300\n",
      "1095/1095 - 0s - loss: 0.0674 - val_loss: 0.0674\n",
      "Epoch 57/300\n",
      "1095/1095 - 0s - loss: 0.0673 - val_loss: 0.0672\n",
      "Epoch 58/300\n",
      "1095/1095 - 0s - loss: 0.0671 - val_loss: 0.0671\n",
      "Epoch 59/300\n",
      "1095/1095 - 0s - loss: 0.0670 - val_loss: 0.0670\n",
      "Epoch 60/300\n",
      "1095/1095 - 0s - loss: 0.0668 - val_loss: 0.0670\n",
      "Epoch 61/300\n",
      "1095/1095 - 0s - loss: 0.0667 - val_loss: 0.0669\n",
      "Epoch 62/300\n",
      "1095/1095 - 0s - loss: 0.0665 - val_loss: 0.0668\n",
      "Epoch 63/300\n",
      "1095/1095 - 0s - loss: 0.0664 - val_loss: 0.0667\n",
      "Epoch 64/300\n",
      "1095/1095 - 0s - loss: 0.0663 - val_loss: 0.0666\n",
      "Epoch 65/300\n",
      "1095/1095 - 0s - loss: 0.0661 - val_loss: 0.0665\n",
      "Epoch 66/300\n",
      "1095/1095 - 0s - loss: 0.0659 - val_loss: 0.0667\n",
      "Epoch 67/300\n",
      "1095/1095 - 0s - loss: 0.0659 - val_loss: 0.0664\n",
      "Epoch 68/300\n",
      "1095/1095 - 0s - loss: 0.0657 - val_loss: 0.0663\n",
      "Epoch 69/300\n",
      "1095/1095 - 0s - loss: 0.0656 - val_loss: 0.0662\n",
      "Epoch 70/300\n",
      "1095/1095 - 0s - loss: 0.0655 - val_loss: 0.0662\n",
      "Epoch 71/300\n",
      "1095/1095 - 0s - loss: 0.0653 - val_loss: 0.0661\n",
      "Epoch 72/300\n",
      "1095/1095 - 0s - loss: 0.0652 - val_loss: 0.0659\n",
      "Epoch 73/300\n",
      "1095/1095 - 0s - loss: 0.0651 - val_loss: 0.0659\n",
      "Epoch 74/300\n",
      "1095/1095 - 0s - loss: 0.0650 - val_loss: 0.0658\n",
      "Epoch 75/300\n",
      "1095/1095 - 0s - loss: 0.0649 - val_loss: 0.0658\n",
      "Epoch 76/300\n",
      "1095/1095 - 0s - loss: 0.0648 - val_loss: 0.0658\n",
      "Epoch 77/300\n",
      "1095/1095 - 0s - loss: 0.0647 - val_loss: 0.0658\n",
      "Epoch 78/300\n",
      "1095/1095 - 0s - loss: 0.0645 - val_loss: 0.0657\n",
      "Epoch 79/300\n",
      "1095/1095 - 0s - loss: 0.0644 - val_loss: 0.0657\n",
      "Epoch 80/300\n",
      "1095/1095 - 0s - loss: 0.0643 - val_loss: 0.0655\n",
      "Epoch 81/300\n",
      "1095/1095 - 0s - loss: 0.0642 - val_loss: 0.0656\n",
      "Epoch 82/300\n",
      "1095/1095 - 0s - loss: 0.0641 - val_loss: 0.0655\n",
      "Epoch 83/300\n",
      "1095/1095 - 0s - loss: 0.0640 - val_loss: 0.0655\n",
      "Epoch 84/300\n",
      "1095/1095 - 0s - loss: 0.0639 - val_loss: 0.0654\n",
      "Epoch 85/300\n",
      "1095/1095 - 0s - loss: 0.0638 - val_loss: 0.0653\n",
      "Epoch 86/300\n",
      "1095/1095 - 0s - loss: 0.0637 - val_loss: 0.0653\n",
      "Epoch 87/300\n",
      "1095/1095 - 0s - loss: 0.0636 - val_loss: 0.0652\n",
      "Epoch 88/300\n",
      "1095/1095 - 0s - loss: 0.0635 - val_loss: 0.0652\n",
      "Epoch 89/300\n",
      "1095/1095 - 0s - loss: 0.0634 - val_loss: 0.0652\n",
      "Epoch 90/300\n",
      "1095/1095 - 0s - loss: 0.0633 - val_loss: 0.0653\n",
      "Epoch 91/300\n",
      "1095/1095 - 0s - loss: 0.0632 - val_loss: 0.0653\n",
      "Epoch 92/300\n",
      "1095/1095 - 0s - loss: 0.0631 - val_loss: 0.0652\n",
      "Epoch 93/300\n",
      "1095/1095 - 0s - loss: 0.0631 - val_loss: 0.0651\n",
      "Epoch 94/300\n",
      "1095/1095 - 0s - loss: 0.0629 - val_loss: 0.0651\n",
      "Epoch 95/300\n",
      "1095/1095 - 0s - loss: 0.0629 - val_loss: 0.0650\n",
      "Epoch 96/300\n",
      "1095/1095 - 0s - loss: 0.0628 - val_loss: 0.0650\n",
      "Epoch 97/300\n",
      "1095/1095 - 0s - loss: 0.0628 - val_loss: 0.0649\n",
      "Epoch 98/300\n",
      "1095/1095 - 0s - loss: 0.0627 - val_loss: 0.0649\n",
      "Epoch 99/300\n",
      "1095/1095 - 0s - loss: 0.0626 - val_loss: 0.0649\n",
      "Epoch 100/300\n",
      "1095/1095 - 0s - loss: 0.0625 - val_loss: 0.0648\n",
      "Epoch 101/300\n",
      "1095/1095 - 0s - loss: 0.0624 - val_loss: 0.0648\n",
      "Epoch 102/300\n",
      "1095/1095 - 0s - loss: 0.0623 - val_loss: 0.0648\n",
      "Epoch 103/300\n",
      "1095/1095 - 0s - loss: 0.0621 - val_loss: 0.0648\n",
      "Epoch 104/300\n",
      "1095/1095 - 0s - loss: 0.0621 - val_loss: 0.0649\n",
      "Epoch 105/300\n",
      "1095/1095 - 0s - loss: 0.0620 - val_loss: 0.0649\n",
      "Epoch 106/300\n",
      "1095/1095 - 0s - loss: 0.0619 - val_loss: 0.0648\n",
      "Epoch 107/300\n",
      "1095/1095 - 0s - loss: 0.0619 - val_loss: 0.0647\n",
      "Epoch 108/300\n",
      "1095/1095 - 0s - loss: 0.0618 - val_loss: 0.0647\n",
      "Epoch 109/300\n",
      "1095/1095 - 0s - loss: 0.0617 - val_loss: 0.0647\n",
      "Epoch 110/300\n",
      "1095/1095 - 0s - loss: 0.0616 - val_loss: 0.0647\n",
      "Epoch 111/300\n",
      "1095/1095 - 0s - loss: 0.0616 - val_loss: 0.0646\n",
      "Epoch 112/300\n",
      "1095/1095 - 0s - loss: 0.0615 - val_loss: 0.0646\n",
      "Epoch 113/300\n",
      "1095/1095 - 0s - loss: 0.0614 - val_loss: 0.0646\n",
      "Epoch 114/300\n",
      "1095/1095 - 0s - loss: 0.0613 - val_loss: 0.0646\n",
      "Epoch 115/300\n",
      "1095/1095 - 0s - loss: 0.0613 - val_loss: 0.0645\n",
      "Epoch 116/300\n",
      "1095/1095 - 0s - loss: 0.0611 - val_loss: 0.0646\n",
      "Epoch 117/300\n",
      "1095/1095 - 0s - loss: 0.0611 - val_loss: 0.0646\n",
      "Epoch 118/300\n",
      "1095/1095 - 0s - loss: 0.0610 - val_loss: 0.0646\n",
      "Epoch 119/300\n",
      "1095/1095 - 0s - loss: 0.0609 - val_loss: 0.0646\n",
      "Epoch 120/300\n",
      "1095/1095 - 0s - loss: 0.0609 - val_loss: 0.0646\n",
      "Epoch 121/300\n",
      "1095/1095 - 0s - loss: 0.0608 - val_loss: 0.0645\n",
      "Epoch 122/300\n",
      "1095/1095 - 0s - loss: 0.0608 - val_loss: 0.0645\n",
      "Epoch 123/300\n",
      "1095/1095 - 0s - loss: 0.0606 - val_loss: 0.0644\n",
      "Epoch 124/300\n",
      "1095/1095 - 0s - loss: 0.0606 - val_loss: 0.0645\n",
      "Epoch 125/300\n",
      "1095/1095 - 0s - loss: 0.0605 - val_loss: 0.0644\n",
      "Epoch 126/300\n",
      "1095/1095 - 0s - loss: 0.0603 - val_loss: 0.0645\n",
      "Epoch 127/300\n",
      "1095/1095 - 0s - loss: 0.0604 - val_loss: 0.0644\n",
      "Epoch 128/300\n",
      "1095/1095 - 0s - loss: 0.0602 - val_loss: 0.0644\n",
      "Epoch 129/300\n",
      "1095/1095 - 0s - loss: 0.0602 - val_loss: 0.0644\n",
      "Epoch 130/300\n",
      "1095/1095 - 0s - loss: 0.0601 - val_loss: 0.0644\n",
      "Epoch 131/300\n",
      "1095/1095 - 0s - loss: 0.0601 - val_loss: 0.0642\n",
      "Epoch 132/300\n"
     ]
    },
    {
     "name": "stdout",
     "output_type": "stream",
     "text": [
      "1095/1095 - 0s - loss: 0.0601 - val_loss: 0.0642\n",
      "Epoch 133/300\n",
      "1095/1095 - 0s - loss: 0.0601 - val_loss: 0.0642\n",
      "Epoch 134/300\n",
      "1095/1095 - 0s - loss: 0.0599 - val_loss: 0.0642\n",
      "Epoch 135/300\n",
      "1095/1095 - 0s - loss: 0.0598 - val_loss: 0.0642\n",
      "Epoch 136/300\n",
      "1095/1095 - 0s - loss: 0.0598 - val_loss: 0.0642\n",
      "Epoch 137/300\n",
      "1095/1095 - 0s - loss: 0.0597 - val_loss: 0.0641\n",
      "Epoch 138/300\n",
      "1095/1095 - 0s - loss: 0.0597 - val_loss: 0.0642\n",
      "Epoch 139/300\n",
      "1095/1095 - 0s - loss: 0.0596 - val_loss: 0.0643\n",
      "Epoch 140/300\n",
      "1095/1095 - 0s - loss: 0.0595 - val_loss: 0.0642\n",
      "Epoch 141/300\n",
      "1095/1095 - 0s - loss: 0.0595 - val_loss: 0.0642\n",
      "Epoch 142/300\n",
      "1095/1095 - 0s - loss: 0.0594 - val_loss: 0.0642\n",
      "Epoch 143/300\n",
      "1095/1095 - 0s - loss: 0.0593 - val_loss: 0.0642\n",
      "Epoch 144/300\n",
      "1095/1095 - 0s - loss: 0.0593 - val_loss: 0.0642\n",
      "Epoch 145/300\n",
      "1095/1095 - 0s - loss: 0.0592 - val_loss: 0.0641\n",
      "Epoch 146/300\n",
      "1095/1095 - 0s - loss: 0.0592 - val_loss: 0.0641\n",
      "Epoch 147/300\n",
      "1095/1095 - 0s - loss: 0.0591 - val_loss: 0.0640\n",
      "Epoch 148/300\n",
      "1095/1095 - 0s - loss: 0.0590 - val_loss: 0.0641\n",
      "Epoch 149/300\n",
      "1095/1095 - 0s - loss: 0.0589 - val_loss: 0.0640\n",
      "Epoch 150/300\n",
      "1095/1095 - 0s - loss: 0.0588 - val_loss: 0.0639\n",
      "Epoch 151/300\n",
      "1095/1095 - 0s - loss: 0.0588 - val_loss: 0.0639\n",
      "Epoch 152/300\n",
      "1095/1095 - 0s - loss: 0.0588 - val_loss: 0.0639\n",
      "Epoch 153/300\n",
      "1095/1095 - 0s - loss: 0.0587 - val_loss: 0.0638\n",
      "Epoch 154/300\n",
      "1095/1095 - 0s - loss: 0.0586 - val_loss: 0.0638\n",
      "Epoch 155/300\n",
      "1095/1095 - 0s - loss: 0.0586 - val_loss: 0.0639\n",
      "Epoch 156/300\n",
      "1095/1095 - 0s - loss: 0.0585 - val_loss: 0.0638\n",
      "Epoch 157/300\n",
      "1095/1095 - 0s - loss: 0.0584 - val_loss: 0.0638\n",
      "Epoch 158/300\n",
      "1095/1095 - 0s - loss: 0.0584 - val_loss: 0.0639\n",
      "Epoch 159/300\n",
      "1095/1095 - 0s - loss: 0.0583 - val_loss: 0.0638\n",
      "Epoch 160/300\n",
      "1095/1095 - 0s - loss: 0.0583 - val_loss: 0.0638\n",
      "Epoch 161/300\n",
      "1095/1095 - 0s - loss: 0.0582 - val_loss: 0.0637\n",
      "Epoch 162/300\n",
      "1095/1095 - 0s - loss: 0.0581 - val_loss: 0.0636\n",
      "Epoch 163/300\n",
      "1095/1095 - 0s - loss: 0.0581 - val_loss: 0.0637\n",
      "Epoch 164/300\n",
      "1095/1095 - 0s - loss: 0.0581 - val_loss: 0.0636\n",
      "Epoch 165/300\n",
      "1095/1095 - 0s - loss: 0.0580 - val_loss: 0.0636\n",
      "Epoch 166/300\n",
      "1095/1095 - 0s - loss: 0.0579 - val_loss: 0.0636\n",
      "Epoch 167/300\n",
      "1095/1095 - 0s - loss: 0.0579 - val_loss: 0.0636\n",
      "Epoch 168/300\n",
      "1095/1095 - 0s - loss: 0.0578 - val_loss: 0.0636\n",
      "Epoch 169/300\n",
      "1095/1095 - 0s - loss: 0.0578 - val_loss: 0.0636\n",
      "Epoch 170/300\n",
      "1095/1095 - 0s - loss: 0.0577 - val_loss: 0.0636\n",
      "Epoch 171/300\n",
      "1095/1095 - 0s - loss: 0.0578 - val_loss: 0.0637\n",
      "Epoch 172/300\n",
      "1095/1095 - 0s - loss: 0.0577 - val_loss: 0.0637\n",
      "Epoch 173/300\n",
      "1095/1095 - 0s - loss: 0.0575 - val_loss: 0.0636\n",
      "Epoch 174/300\n",
      "1095/1095 - 0s - loss: 0.0575 - val_loss: 0.0637\n",
      "Epoch 175/300\n",
      "1095/1095 - 0s - loss: 0.0574 - val_loss: 0.0636\n",
      "Epoch 176/300\n",
      "1095/1095 - 0s - loss: 0.0574 - val_loss: 0.0636\n",
      "Epoch 177/300\n",
      "1095/1095 - 0s - loss: 0.0574 - val_loss: 0.0635\n",
      "Epoch 178/300\n",
      "1095/1095 - 0s - loss: 0.0573 - val_loss: 0.0636\n",
      "Epoch 179/300\n",
      "1095/1095 - 0s - loss: 0.0573 - val_loss: 0.0636\n",
      "Epoch 180/300\n",
      "1095/1095 - 0s - loss: 0.0572 - val_loss: 0.0636\n",
      "Epoch 181/300\n",
      "1095/1095 - 0s - loss: 0.0571 - val_loss: 0.0636\n",
      "Epoch 182/300\n",
      "1095/1095 - 0s - loss: 0.0571 - val_loss: 0.0635\n",
      "Epoch 183/300\n",
      "1095/1095 - 0s - loss: 0.0570 - val_loss: 0.0637\n",
      "Epoch 184/300\n",
      "1095/1095 - 0s - loss: 0.0570 - val_loss: 0.0636\n",
      "Epoch 185/300\n",
      "1095/1095 - 0s - loss: 0.0570 - val_loss: 0.0636\n",
      "Epoch 186/300\n",
      "1095/1095 - 0s - loss: 0.0569 - val_loss: 0.0636\n",
      "Epoch 187/300\n",
      "1095/1095 - 0s - loss: 0.0568 - val_loss: 0.0637\n",
      "Epoch 188/300\n",
      "1095/1095 - 0s - loss: 0.0567 - val_loss: 0.0637\n",
      "Epoch 189/300\n",
      "1095/1095 - 0s - loss: 0.0568 - val_loss: 0.0636\n",
      "Epoch 190/300\n",
      "1095/1095 - 0s - loss: 0.0566 - val_loss: 0.0636\n",
      "Epoch 191/300\n",
      "1095/1095 - 0s - loss: 0.0566 - val_loss: 0.0636\n",
      "Epoch 192/300\n",
      "1095/1095 - 0s - loss: 0.0565 - val_loss: 0.0635\n",
      "Epoch 193/300\n",
      "1095/1095 - 0s - loss: 0.0564 - val_loss: 0.0635\n",
      "Epoch 194/300\n",
      "1095/1095 - 0s - loss: 0.0565 - val_loss: 0.0635\n",
      "Epoch 195/300\n",
      "1095/1095 - 0s - loss: 0.0564 - val_loss: 0.0635\n",
      "Epoch 196/300\n",
      "1095/1095 - 0s - loss: 0.0563 - val_loss: 0.0637\n",
      "Epoch 197/300\n",
      "1095/1095 - 0s - loss: 0.0563 - val_loss: 0.0636\n",
      "Epoch 198/300\n",
      "1095/1095 - 0s - loss: 0.0562 - val_loss: 0.0636\n",
      "Epoch 199/300\n",
      "1095/1095 - 0s - loss: 0.0562 - val_loss: 0.0637\n",
      "Epoch 200/300\n",
      "1095/1095 - 0s - loss: 0.0562 - val_loss: 0.0637\n",
      "Epoch 201/300\n",
      "1095/1095 - 0s - loss: 0.0562 - val_loss: 0.0636\n",
      "Epoch 202/300\n",
      "1095/1095 - 0s - loss: 0.0561 - val_loss: 0.0637\n",
      "Epoch 203/300\n",
      "1095/1095 - 0s - loss: 0.0559 - val_loss: 0.0636\n",
      "Epoch 204/300\n",
      "1095/1095 - 0s - loss: 0.0559 - val_loss: 0.0636\n",
      "Epoch 205/300\n",
      "1095/1095 - 0s - loss: 0.0559 - val_loss: 0.0635\n",
      "Epoch 206/300\n",
      "1095/1095 - 0s - loss: 0.0558 - val_loss: 0.0634\n",
      "Epoch 207/300\n",
      "1095/1095 - 0s - loss: 0.0558 - val_loss: 0.0636\n",
      "Epoch 208/300\n",
      "1095/1095 - 0s - loss: 0.0558 - val_loss: 0.0637\n",
      "Epoch 209/300\n",
      "1095/1095 - 0s - loss: 0.0558 - val_loss: 0.0635\n",
      "Epoch 210/300\n",
      "1095/1095 - 0s - loss: 0.0557 - val_loss: 0.0635\n",
      "Epoch 211/300\n",
      "1095/1095 - 0s - loss: 0.0556 - val_loss: 0.0634\n",
      "Epoch 212/300\n",
      "1095/1095 - 0s - loss: 0.0557 - val_loss: 0.0636\n",
      "Epoch 213/300\n",
      "1095/1095 - 0s - loss: 0.0557 - val_loss: 0.0636\n",
      "Epoch 214/300\n",
      "1095/1095 - 0s - loss: 0.0555 - val_loss: 0.0635\n",
      "Epoch 215/300\n",
      "1095/1095 - 0s - loss: 0.0555 - val_loss: 0.0635\n",
      "Epoch 216/300\n",
      "1095/1095 - 0s - loss: 0.0554 - val_loss: 0.0634\n",
      "Epoch 217/300\n",
      "1095/1095 - 0s - loss: 0.0554 - val_loss: 0.0633\n",
      "Epoch 218/300\n",
      "1095/1095 - 0s - loss: 0.0553 - val_loss: 0.0635\n",
      "Epoch 219/300\n",
      "1095/1095 - 0s - loss: 0.0554 - val_loss: 0.0637\n",
      "Epoch 220/300\n",
      "1095/1095 - 0s - loss: 0.0553 - val_loss: 0.0637\n",
      "Epoch 221/300\n",
      "1095/1095 - 0s - loss: 0.0553 - val_loss: 0.0635\n",
      "Epoch 222/300\n",
      "1095/1095 - 0s - loss: 0.0552 - val_loss: 0.0635\n",
      "Epoch 223/300\n",
      "1095/1095 - 0s - loss: 0.0552 - val_loss: 0.0634\n",
      "Epoch 224/300\n",
      "1095/1095 - 0s - loss: 0.0551 - val_loss: 0.0634\n",
      "Epoch 225/300\n",
      "1095/1095 - 0s - loss: 0.0551 - val_loss: 0.0634\n",
      "Epoch 226/300\n",
      "1095/1095 - 0s - loss: 0.0551 - val_loss: 0.0633\n",
      "Epoch 227/300\n",
      "1095/1095 - 0s - loss: 0.0550 - val_loss: 0.0634\n",
      "Epoch 228/300\n",
      "1095/1095 - 0s - loss: 0.0550 - val_loss: 0.0633\n",
      "Epoch 229/300\n",
      "1095/1095 - 0s - loss: 0.0549 - val_loss: 0.0634\n",
      "Epoch 230/300\n",
      "1095/1095 - 0s - loss: 0.0549 - val_loss: 0.0633\n",
      "Epoch 231/300\n",
      "1095/1095 - 0s - loss: 0.0549 - val_loss: 0.0633\n",
      "Epoch 232/300\n",
      "1095/1095 - 0s - loss: 0.0549 - val_loss: 0.0635\n",
      "Epoch 233/300\n",
      "1095/1095 - 0s - loss: 0.0548 - val_loss: 0.0634\n",
      "Epoch 234/300\n",
      "1095/1095 - 0s - loss: 0.0547 - val_loss: 0.0633\n",
      "Epoch 235/300\n",
      "1095/1095 - 0s - loss: 0.0547 - val_loss: 0.0634\n",
      "Epoch 236/300\n",
      "1095/1095 - 0s - loss: 0.0547 - val_loss: 0.0634\n",
      "Epoch 237/300\n",
      "1095/1095 - 0s - loss: 0.0546 - val_loss: 0.0633\n",
      "Epoch 238/300\n",
      "1095/1095 - 0s - loss: 0.0546 - val_loss: 0.0634\n",
      "Epoch 239/300\n",
      "1095/1095 - 0s - loss: 0.0545 - val_loss: 0.0635\n",
      "Epoch 240/300\n",
      "1095/1095 - 0s - loss: 0.0545 - val_loss: 0.0633\n",
      "Epoch 241/300\n",
      "1095/1095 - 0s - loss: 0.0545 - val_loss: 0.0633\n",
      "Epoch 242/300\n",
      "1095/1095 - 0s - loss: 0.0545 - val_loss: 0.0633\n",
      "Epoch 243/300\n",
      "1095/1095 - 0s - loss: 0.0544 - val_loss: 0.0634\n",
      "Epoch 244/300\n",
      "1095/1095 - 0s - loss: 0.0543 - val_loss: 0.0634\n",
      "Epoch 245/300\n",
      "1095/1095 - 0s - loss: 0.0544 - val_loss: 0.0633\n",
      "Epoch 246/300\n",
      "1095/1095 - 0s - loss: 0.0542 - val_loss: 0.0634\n",
      "Epoch 247/300\n",
      "1095/1095 - 0s - loss: 0.0543 - val_loss: 0.0633\n",
      "Epoch 248/300\n",
      "1095/1095 - 0s - loss: 0.0542 - val_loss: 0.0632\n",
      "Epoch 249/300\n",
      "1095/1095 - 0s - loss: 0.0542 - val_loss: 0.0633\n",
      "Epoch 250/300\n",
      "1095/1095 - 0s - loss: 0.0542 - val_loss: 0.0633\n",
      "Epoch 251/300\n",
      "1095/1095 - 0s - loss: 0.0542 - val_loss: 0.0633\n",
      "Epoch 252/300\n",
      "1095/1095 - 0s - loss: 0.0541 - val_loss: 0.0633\n",
      "Epoch 253/300\n",
      "1095/1095 - 0s - loss: 0.0540 - val_loss: 0.0634\n",
      "Epoch 254/300\n",
      "1095/1095 - 0s - loss: 0.0540 - val_loss: 0.0632\n",
      "Epoch 255/300\n",
      "1095/1095 - 0s - loss: 0.0540 - val_loss: 0.0633\n",
      "Epoch 256/300\n",
      "1095/1095 - 0s - loss: 0.0539 - val_loss: 0.0632\n",
      "Epoch 257/300\n",
      "1095/1095 - 0s - loss: 0.0539 - val_loss: 0.0632\n",
      "Epoch 258/300\n",
      "1095/1095 - 0s - loss: 0.0538 - val_loss: 0.0632\n",
      "Epoch 259/300\n",
      "1095/1095 - 0s - loss: 0.0538 - val_loss: 0.0633\n",
      "Epoch 260/300\n",
      "1095/1095 - 0s - loss: 0.0537 - val_loss: 0.0632\n",
      "Epoch 261/300\n",
      "1095/1095 - 0s - loss: 0.0537 - val_loss: 0.0634\n",
      "Epoch 262/300\n",
      "1095/1095 - 0s - loss: 0.0537 - val_loss: 0.0635\n"
     ]
    },
    {
     "name": "stdout",
     "output_type": "stream",
     "text": [
      "Epoch 263/300\n",
      "1095/1095 - 0s - loss: 0.0536 - val_loss: 0.0632\n",
      "Epoch 264/300\n",
      "1095/1095 - 0s - loss: 0.0537 - val_loss: 0.0633\n",
      "Epoch 265/300\n",
      "1095/1095 - 0s - loss: 0.0535 - val_loss: 0.0633\n",
      "Epoch 266/300\n",
      "1095/1095 - 0s - loss: 0.0536 - val_loss: 0.0632\n",
      "Epoch 267/300\n",
      "1095/1095 - 0s - loss: 0.0535 - val_loss: 0.0631\n",
      "Epoch 268/300\n",
      "1095/1095 - 0s - loss: 0.0535 - val_loss: 0.0632\n",
      "Epoch 269/300\n",
      "1095/1095 - 0s - loss: 0.0535 - val_loss: 0.0632\n",
      "Epoch 270/300\n",
      "1095/1095 - 0s - loss: 0.0535 - val_loss: 0.0632\n",
      "Epoch 271/300\n",
      "1095/1095 - 0s - loss: 0.0534 - val_loss: 0.0632\n",
      "Epoch 272/300\n",
      "1095/1095 - 0s - loss: 0.0533 - val_loss: 0.0631\n",
      "Epoch 273/300\n",
      "1095/1095 - 0s - loss: 0.0533 - val_loss: 0.0631\n",
      "Epoch 274/300\n",
      "1095/1095 - 0s - loss: 0.0533 - val_loss: 0.0634\n",
      "Epoch 275/300\n",
      "1095/1095 - 0s - loss: 0.0533 - val_loss: 0.0634\n",
      "Epoch 276/300\n",
      "1095/1095 - 0s - loss: 0.0532 - val_loss: 0.0633\n",
      "Epoch 277/300\n",
      "1095/1095 - 0s - loss: 0.0532 - val_loss: 0.0634\n",
      "Epoch 278/300\n",
      "1095/1095 - 0s - loss: 0.0532 - val_loss: 0.0632\n",
      "Epoch 279/300\n",
      "1095/1095 - 0s - loss: 0.0531 - val_loss: 0.0633\n",
      "Epoch 280/300\n",
      "1095/1095 - 0s - loss: 0.0530 - val_loss: 0.0633\n",
      "Epoch 281/300\n",
      "1095/1095 - 0s - loss: 0.0530 - val_loss: 0.0633\n",
      "Epoch 282/300\n",
      "1095/1095 - 0s - loss: 0.0529 - val_loss: 0.0634\n",
      "Epoch 283/300\n",
      "1095/1095 - 0s - loss: 0.0530 - val_loss: 0.0633\n",
      "Epoch 284/300\n",
      "1095/1095 - 0s - loss: 0.0530 - val_loss: 0.0632\n",
      "Epoch 285/300\n",
      "1095/1095 - 0s - loss: 0.0529 - val_loss: 0.0632\n",
      "Epoch 286/300\n",
      "1095/1095 - 0s - loss: 0.0530 - val_loss: 0.0631\n",
      "Epoch 287/300\n",
      "1095/1095 - 0s - loss: 0.0528 - val_loss: 0.0632\n",
      "Epoch 288/300\n",
      "1095/1095 - 0s - loss: 0.0528 - val_loss: 0.0632\n",
      "Epoch 289/300\n",
      "1095/1095 - 0s - loss: 0.0528 - val_loss: 0.0634\n",
      "Epoch 290/300\n",
      "1095/1095 - 0s - loss: 0.0528 - val_loss: 0.0632\n",
      "Epoch 291/300\n",
      "1095/1095 - 0s - loss: 0.0527 - val_loss: 0.0633\n",
      "Epoch 292/300\n",
      "1095/1095 - 0s - loss: 0.0527 - val_loss: 0.0635\n",
      "Epoch 293/300\n",
      "1095/1095 - 0s - loss: 0.0526 - val_loss: 0.0632\n",
      "Epoch 294/300\n",
      "1095/1095 - 0s - loss: 0.0527 - val_loss: 0.0634\n",
      "Epoch 295/300\n",
      "1095/1095 - 0s - loss: 0.0526 - val_loss: 0.0634\n",
      "Epoch 296/300\n",
      "1095/1095 - 0s - loss: 0.0525 - val_loss: 0.0633\n",
      "Epoch 297/300\n",
      "1095/1095 - 0s - loss: 0.0525 - val_loss: 0.0633\n",
      "Epoch 298/300\n",
      "1095/1095 - 0s - loss: 0.0525 - val_loss: 0.0631\n",
      "Epoch 299/300\n",
      "1095/1095 - 0s - loss: 0.0524 - val_loss: 0.0631\n",
      "Epoch 300/300\n",
      "1095/1095 - 0s - loss: 0.0524 - val_loss: 0.0633\n"
     ]
    }
   ],
   "source": [
    "BATCH_SIZE = 50 #n_input\n",
    "EPOCHS = 300\n",
    "history = model.fit(X_train_scaled, \\\n",
    "                    y_train_log_scaled, \\\n",
    "                    validation_data=(X_val_scaled, y_val_log_scaled), \\\n",
    "                    epochs=EPOCHS, \\\n",
    "                    batch_size=BATCH_SIZE, \\\n",
    "                    verbose=2)"
   ]
  },
  {
   "cell_type": "markdown",
   "metadata": {
    "slideshow": {
     "slide_type": "slide"
    }
   },
   "source": [
    "## Review learning curve"
   ]
  },
  {
   "cell_type": "code",
   "execution_count": 20,
   "metadata": {
    "slideshow": {
     "slide_type": "fragment"
    }
   },
   "outputs": [],
   "source": [
    "import matplotlib.pyplot as plt\n",
    "%matplotlib notebook\n",
    "# plt.style.use('dark_background')"
   ]
  },
  {
   "cell_type": "code",
   "execution_count": 21,
   "metadata": {
    "slideshow": {
     "slide_type": "fragment"
    }
   },
   "outputs": [
    {
     "data": {
      "image/png": "[encoded data removed]",
      "text/plain": [
       "<Figure size 432x288 with 1 Axes>"
      ]
     },
     "metadata": {
      "needs_background": "light"
     },
     "output_type": "display_data"
    }
   ],
   "source": [
    "import pandas as pd\n",
    "\n",
    "pd.DataFrame(history.history).plot()\n",
    "plt.grid(True)\n",
    "plt.title('Model performance throughout training')\n",
    "plt.ylabel('Loss')\n",
    "plt.xlabel('epoch')\n",
    "plt.legend(['train', 'val'], loc='upper right')\n",
    "plt.show()"
   ]
  },
  {
   "cell_type": "markdown",
   "metadata": {
    "slideshow": {
     "slide_type": "slide"
    }
   },
   "source": [
    "## Evaluate model\n",
    "\n",
    "Predict on val set:"
   ]
  },
  {
   "cell_type": "code",
   "execution_count": 22,
   "metadata": {
    "slideshow": {
     "slide_type": "fragment"
    }
   },
   "outputs": [],
   "source": [
    "pred_val = model.predict(X_val_scaled)"
   ]
  },
  {
   "cell_type": "markdown",
   "metadata": {
    "slideshow": {
     "slide_type": "fragment"
    }
   },
   "source": [
    "Wait... what are we predicting again?"
   ]
  },
  {
   "cell_type": "code",
   "execution_count": 23,
   "metadata": {
    "slideshow": {
     "slide_type": "fragment"
    }
   },
   "outputs": [],
   "source": [
    "y_val_pred_log_scaled = pred_val"
   ]
  },
  {
   "cell_type": "markdown",
   "metadata": {
    "slideshow": {
     "slide_type": "slide"
    }
   },
   "source": [
    "De-normalize predictions:"
   ]
  },
  {
   "cell_type": "code",
   "execution_count": 24,
   "metadata": {
    "slideshow": {
     "slide_type": "fragment"
    }
   },
   "outputs": [],
   "source": [
    "y_val_pred_log = scaler_Y_log.inverse_transform(y_val_pred_log_scaled)"
   ]
  },
  {
   "cell_type": "markdown",
   "metadata": {
    "slideshow": {
     "slide_type": "fragment"
    }
   },
   "source": [
    "Go back from log-dollars to dollars:"
   ]
  },
  {
   "cell_type": "code",
   "execution_count": 25,
   "metadata": {
    "slideshow": {
     "slide_type": "fragment"
    }
   },
   "outputs": [],
   "source": [
    "from numpy import exp\n",
    "y_val_pred = exp(y_val_pred_log)"
   ]
  },
  {
   "cell_type": "markdown",
   "metadata": {
    "slideshow": {
     "slide_type": "slide"
    }
   },
   "source": [
    "Compute performance metrics:"
   ]
  },
  {
   "cell_type": "code",
   "execution_count": 26,
   "metadata": {
    "slideshow": {
     "slide_type": "fragment"
    }
   },
   "outputs": [
    {
     "name": "stdout",
     "output_type": "stream",
     "text": [
      "0.8901824636183143\n"
     ]
    }
   ],
   "source": [
    "from sklearn import metrics\n",
    "print(metrics.r2_score(y_val, y_val_pred))"
   ]
  },
  {
   "cell_type": "code",
   "execution_count": 27,
   "metadata": {
    "slideshow": {
     "slide_type": "fragment"
    }
   },
   "outputs": [
    {
     "name": "stdout",
     "output_type": "stream",
     "text": [
      "0.8865357812285808\n"
     ]
    }
   ],
   "source": [
    "from sklearn import metrics\n",
    "print(metrics.r2_score(y_val_log, y_val_pred_log))"
   ]
  },
  {
   "cell_type": "code",
   "execution_count": 28,
   "metadata": {
    "slideshow": {
     "slide_type": "fragment"
    }
   },
   "outputs": [
    {
     "data": {
      "text/plain": [
       "0.14016917273872412"
      ]
     },
     "execution_count": 28,
     "metadata": {},
     "output_type": "execute_result"
    }
   ],
   "source": [
    "from math import sqrt\n",
    "sqrt(metrics.mean_squared_error(y_val_log, y_val_pred_log))"
   ]
  },
  {
   "cell_type": "code",
   "execution_count": 29,
   "metadata": {},
   "outputs": [
    {
     "data": {
      "text/plain": [
       "27736.362085180266"
      ]
     },
     "execution_count": 29,
     "metadata": {},
     "output_type": "execute_result"
    }
   ],
   "source": [
    "from math import sqrt\n",
    "sqrt(metrics.mean_squared_error(y_val, y_val_pred))"
   ]
  },
  {
   "cell_type": "markdown",
   "metadata": {},
   "source": [
    "## Prédictions sur Test"
   ]
  },
  {
   "cell_type": "code",
   "execution_count": 30,
   "metadata": {},
   "outputs": [],
   "source": [
    "pred = model.predict(X_test_scaled)\n",
    "\n",
    "y_pred_log_scaled = pred"
   ]
  },
  {
   "cell_type": "markdown",
   "metadata": {},
   "source": [
    "De-normalize predictions:"
   ]
  },
  {
   "cell_type": "code",
   "execution_count": 31,
   "metadata": {},
   "outputs": [],
   "source": [
    "y_pred_log = scaler_Y_log.inverse_transform(y_pred_log_scaled)"
   ]
  },
  {
   "cell_type": "markdown",
   "metadata": {},
   "source": [
    "Go back from log-dollars to dollars:"
   ]
  },
  {
   "cell_type": "code",
   "execution_count": 32,
   "metadata": {},
   "outputs": [],
   "source": [
    "from numpy import exp\n",
    "\n",
    "y_pred = exp(y_pred_log)"
   ]
  },
  {
   "cell_type": "code",
   "execution_count": 33,
   "metadata": {},
   "outputs": [
    {
     "data": {
      "text/plain": [
       "array([[121105.59],\n",
       "       [153197.42],\n",
       "       [170642.36],\n",
       "       ...,\n",
       "       [171956.44],\n",
       "       [135116.98],\n",
       "       [222495.48]], dtype=float32)"
      ]
     },
     "execution_count": 33,
     "metadata": {},
     "output_type": "execute_result"
    }
   ],
   "source": [
    "y_pred"
   ]
  },
  {
   "cell_type": "code",
   "execution_count": 34,
   "metadata": {},
   "outputs": [
    {
     "data": {
      "text/plain": [
       "0       1461\n",
       "1       1462\n",
       "2       1463\n",
       "3       1464\n",
       "4       1465\n",
       "        ... \n",
       "1454    2915\n",
       "1455    2916\n",
       "1456    2917\n",
       "1457    2918\n",
       "1458    2919\n",
       "Name: Id, Length: 1459, dtype: int64"
      ]
     },
     "execution_count": 34,
     "metadata": {},
     "output_type": "execute_result"
    }
   ],
   "source": [
    "test_ID"
   ]
  },
  {
   "cell_type": "code",
   "execution_count": 35,
   "metadata": {},
   "outputs": [
    {
     "name": "stdout",
     "output_type": "stream",
     "text": [
      "(0, 0)\n"
     ]
    }
   ],
   "source": [
    "import kaggle\n",
    "\n",
    "sub = pd.DataFrame()\n",
    "print(sub.shape)"
   ]
  },
  {
   "cell_type": "code",
   "execution_count": 36,
   "metadata": {},
   "outputs": [
    {
     "name": "stdout",
     "output_type": "stream",
     "text": [
      "(1459, 2)\n"
     ]
    }
   ],
   "source": [
    "sub['Id'] = test_ID\n",
    "sub['SalePrice'] = y_pred\n",
    "print(sub.shape)"
   ]
  },
  {
   "cell_type": "code",
   "execution_count": 37,
   "metadata": {},
   "outputs": [
    {
     "data": {
      "text/html": [
       "<div>\n",
       "<style scoped>\n",
       "    .dataframe tbody tr th:only-of-type {\n",
       "        vertical-align: middle;\n",
       "    }\n",
       "\n",
       "    .dataframe tbody tr th {\n",
       "        vertical-align: top;\n",
       "    }\n",
       "\n",
       "    .dataframe thead th {\n",
       "        text-align: right;\n",
       "    }\n",
       "</style>\n",
       "<table border=\"1\" class=\"dataframe\">\n",
       "  <thead>\n",
       "    <tr style=\"text-align: right;\">\n",
       "      <th></th>\n",
       "      <th>Id</th>\n",
       "      <th>SalePrice</th>\n",
       "    </tr>\n",
       "  </thead>\n",
       "  <tbody>\n",
       "    <tr>\n",
       "      <th>count</th>\n",
       "      <td>1459.000000</td>\n",
       "      <td>1459.000000</td>\n",
       "    </tr>\n",
       "    <tr>\n",
       "      <th>mean</th>\n",
       "      <td>2190.000000</td>\n",
       "      <td>177034.281250</td>\n",
       "    </tr>\n",
       "    <tr>\n",
       "      <th>std</th>\n",
       "      <td>421.321334</td>\n",
       "      <td>72136.585938</td>\n",
       "    </tr>\n",
       "    <tr>\n",
       "      <th>min</th>\n",
       "      <td>1461.000000</td>\n",
       "      <td>51656.691406</td>\n",
       "    </tr>\n",
       "    <tr>\n",
       "      <th>25%</th>\n",
       "      <td>1825.500000</td>\n",
       "      <td>126156.656250</td>\n",
       "    </tr>\n",
       "    <tr>\n",
       "      <th>50%</th>\n",
       "      <td>2190.000000</td>\n",
       "      <td>158478.375000</td>\n",
       "    </tr>\n",
       "    <tr>\n",
       "      <th>75%</th>\n",
       "      <td>2554.500000</td>\n",
       "      <td>209070.484375</td>\n",
       "    </tr>\n",
       "    <tr>\n",
       "      <th>max</th>\n",
       "      <td>2919.000000</td>\n",
       "      <td>722091.562500</td>\n",
       "    </tr>\n",
       "  </tbody>\n",
       "</table>\n",
       "</div>"
      ],
      "text/plain": [
       "                Id      SalePrice\n",
       "count  1459.000000    1459.000000\n",
       "mean   2190.000000  177034.281250\n",
       "std     421.321334   72136.585938\n",
       "min    1461.000000   51656.691406\n",
       "25%    1825.500000  126156.656250\n",
       "50%    2190.000000  158478.375000\n",
       "75%    2554.500000  209070.484375\n",
       "max    2919.000000  722091.562500"
      ]
     },
     "execution_count": 37,
     "metadata": {},
     "output_type": "execute_result"
    }
   ],
   "source": [
    "sub.describe()"
   ]
  },
  {
   "cell_type": "code",
   "execution_count": 39,
   "metadata": {},
   "outputs": [
    {
     "name": "stderr",
     "output_type": "stream",
     "text": [
      "100%|██████████| 21.1k/21.1k [00:03<00:00, 5.69kB/s]\n"
     ]
    },
    {
     "data": {
      "text/plain": [
       "Successfully submitted to House Prices: Advanced Regression Techniques"
      ]
     },
     "execution_count": 39,
     "metadata": {},
     "output_type": "execute_result"
    }
   ],
   "source": [
    "sub.to_csv('csv_file/house_prices_pred.csv', index=False)\n",
    "\n",
    "submission_file = 'csv_file/house_prices_pred.csv'\n",
    "kaggle.api.competition_submit(submission_file, \n",
    "                              \"MLP.Keras-20features-num)\", \n",
    "                              \"house-prices-advanced-regression-techniques\")"
   ]
  },
  {
   "cell_type": "code",
   "execution_count": null,
   "metadata": {},
   "outputs": [],
   "source": []
  }
 ],
 "metadata": {
  "kernelspec": {
   "display_name": "Python 3",
   "language": "python",
   "name": "python3"
  },
  "language_info": {
   "codemirror_mode": {
    "name": "ipython",
    "version": 3
   },
   "file_extension": ".py",
   "mimetype": "text/x-python",
   "name": "python",
   "nbconvert_exporter": "python",
   "pygments_lexer": "ipython3",
   "version": "3.7.3"
  },
  "livereveal": {
   "scroll": true
  },
  "toc": {
   "base_numbering": 1,
   "nav_menu": {},
   "number_sections": false,
   "sideBar": true,
   "skip_h1_title": true,
   "title_cell": "Table of Contents",
   "title_sidebar": "Contents",
   "toc_cell": false,
   "toc_position": {},
   "toc_section_display": true,
   "toc_window_display": false
  }
 },
 "nbformat": 4,
 "nbformat_minor": 2
}
