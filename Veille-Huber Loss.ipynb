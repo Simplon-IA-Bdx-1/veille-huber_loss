{
 "cells": [
  {
   "cell_type": "markdown",
   "metadata": {
    "slideshow": {
     "slide_type": "slide"
    }
   },
   "source": [
    "# Huber Loss"
   ]
  },
  {
   "cell_type": "markdown",
   "metadata": {
    "slideshow": {
     "slide_type": "subslide"
    }
   },
   "source": [
    "__Sources__ :\n",
    "* [Robust Regression](https://en.wikipedia.org/wiki/Robust_regression)\n",
    "* [Huber Loss](https://en.wikipedia.org/wiki/Huber_loss)\n",
    "* [Cours Cédric Saporta - CNAM](http://cedric.cnam.fr/~saporta/Regressionrobuste2014.pdf)\n",
    "* [Alexis Alulema - Loss Functions](https://alexisalulema.com/2017/12/07/loss-functions-part-1/)\n",
    "* [Machine Curve - Loss Functions](https://www.machinecurve.com/index.php/2019/10/04/about-loss-and-loss-functions/#huber-loss)"
   ]
  },
  {
   "cell_type": "markdown",
   "metadata": {
    "slideshow": {
     "slide_type": "slide"
    }
   },
   "source": [
    "# Définitions :"
   ]
  },
  {
   "cell_type": "markdown",
   "metadata": {
    "slideshow": {
     "slide_type": "slide"
    }
   },
   "source": [
    "### Huber Loss : \n",
    "Huber Loss est une **fonction de perte** utilisée dans une régression robuste , qui est **moins sensible aux valeurs aberrantes** dans les données.\n",
    " * Dans la construction d'un modèle, c'est une fonction qu'on va chercher à minimiser telle que le MSE.\n",
    " * Elle va servir à définir les poids d'un modèle."
   ]
  },
  {
   "cell_type": "markdown",
   "metadata": {
    "slideshow": {
     "slide_type": "subslide"
    }
   },
   "source": [
    "<img src=\"huber_loss_formula.png\">"
   ]
  },
  {
   "cell_type": "markdown",
   "metadata": {
    "slideshow": {
     "slide_type": "subslide"
    }
   },
   "source": [
    "<img src=\"loss_functions.png\">"
   ]
  },
  {
   "cell_type": "markdown",
   "metadata": {
    "slideshow": {
     "slide_type": "slide"
    }
   },
   "source": [
    "### Robust Regression : \n",
    "La régression robuste est une forme d'analyse de régression **conçue pour surmonter certaines limites des méthodes paramétriques et non paramétriques traditionnelles**.\n",
    " * plus robuste lorsqu'on rencontre des phénomènes qui pourraient tromper les résultats de l'analyse statistiques d'un jeu de données"
   ]
  },
  {
   "cell_type": "markdown",
   "metadata": {
    "slideshow": {
     "slide_type": "slide"
    }
   },
   "source": [
    "# Huber Loss with Keras"
   ]
  },
  {
   "cell_type": "code",
   "execution_count": null,
   "metadata": {
    "slideshow": {
     "slide_type": "subslide"
    }
   },
   "outputs": [],
   "source": [
    "from keras.losses import huber_loss\n",
    "\n",
    "def huber_loss_wrapper(**huber_loss_kwargs):\n",
    "    def huber_loss_wrapped_function(y_true, y_pred):\n",
    "        return huber_loss(y_true, y_pred, **huber_loss_kwargs)\n",
    "    return huber_loss_wrapped_function"
   ]
  },
  {
   "cell_type": "code",
   "execution_count": null,
   "metadata": {
    "slideshow": {
     "slide_type": "subslide"
    }
   },
   "outputs": [],
   "source": [
    "model.compile(loss=huber_loss_wrapper(delta=1.5), optimizer=SGD(lr=LEARNING_RATE))"
   ]
  },
  {
   "cell_type": "markdown",
   "metadata": {
    "slideshow": {
     "slide_type": "subslide"
    }
   },
   "source": [
    "#### exemple d'utilsation :\n",
    "[Notebook House Prices](http://127.0.0.1:8880/notebooks/work/MLP-House-Prices-Keras.ipynb)"
   ]
  },
  {
   "cell_type": "markdown",
   "metadata": {
    "slideshow": {
     "slide_type": "slide"
    }
   },
   "source": [
    "# Pour aller plus loin : HuberRegressor with Sklearn"
   ]
  },
  {
   "cell_type": "markdown",
   "metadata": {
    "slideshow": {
     "slide_type": "slide"
    }
   },
   "source": [
    "[Lien vers doc Scikit-Learn](https://scikit-learn.org/stable/modules/generated/sklearn.linear_model.HuberRegressor.html)"
   ]
  },
  {
   "cell_type": "markdown",
   "metadata": {},
   "source": [
    "# A vos Questions ! ;)"
   ]
  }
 ],
 "metadata": {
  "celltoolbar": "Diaporama",
  "kernelspec": {
   "display_name": "base",
   "language": "python",
   "name": "base"
  },
  "language_info": {
   "codemirror_mode": {
    "name": "ipython",
    "version": 3
   },
   "file_extension": ".py",
   "mimetype": "text/x-python",
   "name": "python",
   "nbconvert_exporter": "python",
   "pygments_lexer": "ipython3",
   "version": "3.7.5"
  }
 },
 "nbformat": 4,
 "nbformat_minor": 2
}
